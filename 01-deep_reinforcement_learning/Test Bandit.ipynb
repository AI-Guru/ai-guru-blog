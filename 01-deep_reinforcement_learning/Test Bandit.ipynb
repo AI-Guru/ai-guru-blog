{
 "cells": [
  {
   "cell_type": "code",
   "execution_count": 2,
   "metadata": {},
   "outputs": [],
   "source": [
    "import numpy as np\n",
    "from multiarmbandit import MultiArmBandit"
   ]
  },
  {
   "cell_type": "code",
   "execution_count": 3,
   "metadata": {},
   "outputs": [],
   "source": [
    "arms = 10\n",
    "environment = MultiArmBandit(arms)"
   ]
  },
  {
   "cell_type": "code",
   "execution_count": 4,
   "metadata": {},
   "outputs": [
    {
     "name": "stdout",
     "output_type": "stream",
     "text": [
      "Round 0\n",
      "  State is 6\n",
      "  Pulling arm 4\n",
      "  Reward is 10\n",
      "  New state is 3\n",
      "\n",
      "Round 1\n",
      "  State is 3\n",
      "  Pulling arm 4\n",
      "  Reward is 5\n",
      "  New state is 2\n",
      "\n",
      "Round 2\n",
      "  State is 2\n",
      "  Pulling arm 8\n",
      "  Reward is 6\n",
      "  New state is 6\n",
      "\n",
      "Round 3\n",
      "  State is 6\n",
      "  Pulling arm 1\n",
      "  Reward is 2\n",
      "  New state is 7\n",
      "\n",
      "Round 4\n",
      "  State is 7\n",
      "  Pulling arm 1\n",
      "  Reward is 1\n",
      "  New state is 6\n",
      "\n",
      "Round 5\n",
      "  State is 6\n",
      "  Pulling arm 9\n",
      "  Reward is 10\n",
      "  New state is 3\n",
      "\n",
      "Round 6\n",
      "  State is 3\n",
      "  Pulling arm 4\n",
      "  Reward is 2\n",
      "  New state is 4\n",
      "\n",
      "Round 7\n",
      "  State is 4\n",
      "  Pulling arm 0\n",
      "  Reward is 7\n",
      "  New state is 6\n",
      "\n",
      "Round 8\n",
      "  State is 6\n",
      "  Pulling arm 3\n",
      "  Reward is 8\n",
      "  New state is 6\n",
      "\n",
      "Round 9\n",
      "  State is 6\n",
      "  Pulling arm 6\n",
      "  Reward is 2\n",
      "  New state is 4\n",
      "\n"
     ]
    }
   ],
   "source": [
    "for round_index in range(10):\n",
    "    print(\"Round\", round_index)\n",
    "    \n",
    "    print(\"  State is\", environment.get_state())\n",
    "\n",
    "    random_arm = np.random.randint(0, arms)\n",
    "    print(\"  Pulling arm\", random_arm)\n",
    "    \n",
    "    reward = environment.pull_arm_and_get_reward(random_arm)\n",
    "    print(\"  Reward is\", reward)\n",
    "    \n",
    "    print(\"  New state is\", environment.get_state())\n",
    "    print(\"\")"
   ]
  },
  {
   "cell_type": "code",
   "execution_count": null,
   "metadata": {},
   "outputs": [],
   "source": []
  }
 ],
 "metadata": {
  "kernelspec": {
   "display_name": "Python 3",
   "language": "python",
   "name": "python3"
  },
  "language_info": {
   "codemirror_mode": {
    "name": "ipython",
    "version": 3
   },
   "file_extension": ".py",
   "mimetype": "text/x-python",
   "name": "python",
   "nbconvert_exporter": "python",
   "pygments_lexer": "ipython3",
   "version": "3.6.5"
  }
 },
 "nbformat": 4,
 "nbformat_minor": 2
}
